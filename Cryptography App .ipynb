{
 "cells": [
  {
   "cell_type": "markdown",
   "metadata": {},
   "source": [
    "# A Simple Cryptography App in Python "
   ]
  },
  {
   "cell_type": "code",
   "execution_count": 1,
   "metadata": {},
   "outputs": [],
   "source": [
    "from cryptography.fernet import Fernet"
   ]
  },
  {
   "cell_type": "markdown",
   "metadata": {},
   "source": [
    "# Generate a key \n",
    "Generate a key to encrypt and decrypt the data. The key may be generated only once, unless you want to change the key. This key needs to be kept safe. If you lose it you wpn't be able to encrypt or decrypt messages. "
   ]
  },
  {
   "cell_type": "code",
   "execution_count": 2,
   "metadata": {},
   "outputs": [],
   "source": [
    "def symmetric_key():\n",
    "    \"\"\"\n",
    "    Generates a key for \n",
    "    Encryption and Decryption\n",
    "    \"\"\"\n",
    "    key = Fernet.generate_key()\n",
    "    with open('secret.key','wb') as f:\n",
    "        f.write(key)\n"
   ]
  },
  {
   "cell_type": "markdown",
   "metadata": {},
   "source": [
    "# Load the key"
   ]
  },
  {
   "cell_type": "code",
   "execution_count": 3,
   "metadata": {},
   "outputs": [],
   "source": [
    "def get_key():\n",
    "    \"\"\"\n",
    "    Loads previoulsy \n",
    "    generated key\n",
    "    \"\"\"\n",
    "    with open('secret.key','rb') as f:\n",
    "        key = f.read()\n",
    "    return key"
   ]
  },
  {
   "cell_type": "markdown",
   "metadata": {},
   "source": [
    "# Get message from the user  "
   ]
  },
  {
   "cell_type": "code",
   "execution_count": 5,
   "metadata": {},
   "outputs": [],
   "source": [
    "def user_input():\n",
    "    \"\"\"\n",
    "    Gets message to be encrypted \n",
    "    from the user\n",
    "    \"\"\"\n",
    "    return input('Enter the text(message) you want to encrypt: ')"
   ]
  },
  {
   "cell_type": "markdown",
   "metadata": {},
   "source": [
    "# Encrypt the message \n",
    "Steps to Encrypt the message:\n",
    "1. Get message from the user\n",
    "2. Initialise the [Fernet](https://cryptography.io/en/latest/fernet.html) class with the key as a parameter\n",
    "3. Encrypt the message "
   ]
  },
  {
   "cell_type": "code",
   "execution_count": 6,
   "metadata": {},
   "outputs": [],
   "source": [
    "def encrypt_message():\n",
    "    \"\"\"\n",
    "    Encrypts the users message\n",
    "    \"\"\"\n",
    "    message = bytes(user_input(), encoding='utf-8')\n",
    "    f = Fernet(get_key())\n",
    "    encrypted_message = f.encrypt(message)\n",
    "    return encrypted_message"
   ]
  },
  {
   "cell_type": "code",
   "execution_count": 7,
   "metadata": {},
   "outputs": [
    {
     "name": "stdout",
     "output_type": "stream",
     "text": [
      "Enter the text(message) you want to encrypt: X does not mark the spot Y does\n"
     ]
    }
   ],
   "source": [
    "secret_message = encrypt_message()"
   ]
  },
  {
   "cell_type": "code",
   "execution_count": 8,
   "metadata": {},
   "outputs": [
    {
     "name": "stdout",
     "output_type": "stream",
     "text": [
      "b'gAAAAABf3jeJLWSLYqSpF24dbFvMBDesPDvA3C2EBblkJ_GLeX2yw4G-Qd5B9OaOwaSTyOfVspb-J8Tupg-ykKlK0IAHsU92XKrHA10OPjKpUpJASE6aUFE='\n"
     ]
    }
   ],
   "source": [
    "print(secret_message)"
   ]
  },
  {
   "cell_type": "markdown",
   "metadata": {},
   "source": [
    "# Decrypt the message\n",
    "Steps to Decrypt the message:\n",
    "\n",
    "1. Get message from the user\n",
    "2. Initialise the Fernet class with the key as a parameter\n",
    "3. Encrypt the message"
   ]
  },
  {
   "cell_type": "code",
   "execution_count": 9,
   "metadata": {},
   "outputs": [],
   "source": [
    "def decrypt_message(secret_message):\n",
    "    \"\"\"\n",
    "    Decrypts the users the encrypted \n",
    "    message and returns the original\n",
    "    message\n",
    "    \"\"\"\n",
    "    f = Fernet(get_key())\n",
    "    original_message = f.decrypt(secret_message)\n",
    "    return original_message.decode(\"utf\")"
   ]
  },
  {
   "cell_type": "code",
   "execution_count": 10,
   "metadata": {},
   "outputs": [],
   "source": [
    "original  = decrypt_message(secret_message)"
   ]
  },
  {
   "cell_type": "code",
   "execution_count": 11,
   "metadata": {},
   "outputs": [
    {
     "name": "stdout",
     "output_type": "stream",
     "text": [
      "X does not mark the spot Y does\n"
     ]
    }
   ],
   "source": [
    "print(original)"
   ]
  },
  {
   "cell_type": "code",
   "execution_count": null,
   "metadata": {},
   "outputs": [],
   "source": []
  }
 ],
 "metadata": {
  "kernelspec": {
   "display_name": "Python 3",
   "language": "python",
   "name": "python3"
  },
  "language_info": {
   "codemirror_mode": {
    "name": "ipython",
    "version": 3
   },
   "file_extension": ".py",
   "mimetype": "text/x-python",
   "name": "python",
   "nbconvert_exporter": "python",
   "pygments_lexer": "ipython3",
   "version": "3.8.3"
  }
 },
 "nbformat": 4,
 "nbformat_minor": 4
}
