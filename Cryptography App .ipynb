{
 "cells": [
  {
   "cell_type": "code",
   "execution_count": 2,
   "metadata": {},
   "outputs": [],
   "source": [
    "from cryptography.fernet import Fernet"
   ]
  },
  {
   "cell_type": "code",
   "execution_count": 26,
   "metadata": {},
   "outputs": [],
   "source": [
    "def symmetric_key():\n",
    "    key = Fernet.generate_key()\n",
    "    with open('secret.key','wb') as f:\n",
    "        f.write(key)\n"
   ]
  },
  {
   "cell_type": "code",
   "execution_count": 27,
   "metadata": {},
   "outputs": [],
   "source": [
    "def get_key():\n",
    "    with open('secret.key','rb') as f:\n",
    "        key = f.read()\n",
    "    return key"
   ]
  },
  {
   "cell_type": "code",
   "execution_count": 38,
   "metadata": {},
   "outputs": [],
   "source": [
    "def user_input():\n",
    "    return input('Enter the text(message) you want to encrypt: ')"
   ]
  },
  {
   "cell_type": "code",
   "execution_count": 47,
   "metadata": {},
   "outputs": [],
   "source": [
    "def encrypt_message():\n",
    "    message = bytes(user_input(), encoding='utf-8')\n",
    "    f = Fernet(get_key())\n",
    "    encrypted_message = f.encrypt(message)\n",
    "    return encrypted_message"
   ]
  },
  {
   "cell_type": "code",
   "execution_count": 53,
   "metadata": {},
   "outputs": [
    {
     "name": "stdout",
     "output_type": "stream",
     "text": [
      "Enter the text(message) you want to encrypt: hi\n"
     ]
    },
    {
     "data": {
      "text/plain": [
       "b'gAAAAABf2fBB9bFEeSuOXmRUenHV83Z7SbOLQOaupq7Tt50WQQvjskcLF5d2VWSHVOjBefTD-TfFkXItJzD4h2UpbajZIYX1oQ=='"
      ]
     },
     "execution_count": 53,
     "metadata": {},
     "output_type": "execute_result"
    }
   ],
   "source": [
    "encrypt_message()"
   ]
  },
  {
   "cell_type": "code",
   "execution_count": 66,
   "metadata": {},
   "outputs": [],
   "source": [
    "def decrypt_message():\n",
    "    encrypted_message = encrypt_message()\n",
    "    f = Fernet(get_key())\n",
    "    original_message = f.decrypt(encrypted_message)\n",
    "    return original_message.decode(\"utf\")"
   ]
  },
  {
   "cell_type": "code",
   "execution_count": 67,
   "metadata": {},
   "outputs": [
    {
     "name": "stdout",
     "output_type": "stream",
     "text": [
      "Enter the text(message) you want to encrypt: hi\n"
     ]
    }
   ],
   "source": [
    "original  = decrypt_message()"
   ]
  },
  {
   "cell_type": "code",
   "execution_count": 69,
   "metadata": {},
   "outputs": [
    {
     "name": "stdout",
     "output_type": "stream",
     "text": [
      "hi\n"
     ]
    }
   ],
   "source": [
    "print(original)"
   ]
  },
  {
   "cell_type": "code",
   "execution_count": null,
   "metadata": {},
   "outputs": [],
   "source": []
  }
 ],
 "metadata": {
  "kernelspec": {
   "display_name": "Python 3",
   "language": "python",
   "name": "python3"
  },
  "language_info": {
   "codemirror_mode": {
    "name": "ipython",
    "version": 3
   },
   "file_extension": ".py",
   "mimetype": "text/x-python",
   "name": "python",
   "nbconvert_exporter": "python",
   "pygments_lexer": "ipython3",
   "version": "3.8.3"
  }
 },
 "nbformat": 4,
 "nbformat_minor": 4
}
