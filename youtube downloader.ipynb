{
 "cells": [
  {
   "cell_type": "code",
   "execution_count": 9,
   "metadata": {},
   "outputs": [],
   "source": [
    "from pytube import YouTube\n",
    "from tkinter import *\n",
    "\n",
    "root=Tk()\n",
    "root.geometry('600x200')\n",
    "root.title('Youtube Video Downloader')\n",
    "\n",
    "\n",
    "\n",
    "\n",
    "def download_video():\n",
    "    x=str(mylink.get())\n",
    "    get_video=YouTube(x).streams.filter(progressive=True, file_extension='mp4').order_by('resolution').desc().first()\n",
    "    get_video.download() \n",
    "    \n",
    "yt_paste_link_lbl=Label(root,text=\"Paste The Youtube Link Here\", font=(\"bold\",20))\n",
    "yt_paste_link_lbl.place(x=120,y=20)\n",
    "\n",
    "\n",
    "link=StringVar()\n",
    "\n",
    "pastelink=Entry(root, width=60, textvariable=mylink)\n",
    "pastelink.place(x=140, y=80)\n",
    "\n",
    "download_button = Button(root,text=\"Download Video\", width=20, bg='green',fg=\"white\", command=download_video)\n",
    "download_button.place(x=220, y=110)\n",
    "\n",
    "root.mainloop()"
   ]
  },
  {
   "cell_type": "code",
   "execution_count": null,
   "metadata": {},
   "outputs": [],
   "source": [
    "\n"
   ]
  },
  {
   "cell_type": "code",
   "execution_count": null,
   "metadata": {},
   "outputs": [],
   "source": []
  }
 ],
 "metadata": {
  "kernelspec": {
   "display_name": "Python 3",
   "language": "python",
   "name": "python3"
  }
 },
 "nbformat": 4,
 "nbformat_minor": 4
}
